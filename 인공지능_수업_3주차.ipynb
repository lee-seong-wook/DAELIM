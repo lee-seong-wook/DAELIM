{
  "nbformat": 4,
  "nbformat_minor": 0,
  "metadata": {
    "colab": {
      "provenance": [],
      "gpuType": "T4",
      "authorship_tag": "ABX9TyP987KZ60rN1lEGxl09LxMh",
      "include_colab_link": true
    },
    "kernelspec": {
      "name": "python3",
      "display_name": "Python 3"
    },
    "language_info": {
      "name": "python"
    },
    "accelerator": "GPU"
  },
  "cells": [
    {
      "cell_type": "markdown",
      "metadata": {
        "id": "view-in-github",
        "colab_type": "text"
      },
      "source": [
        "<a href=\"https://colab.research.google.com/github/lee-seong-wook/DAELIM/blob/main/%EC%9D%B8%EA%B3%B5%EC%A7%80%EB%8A%A5_%EC%88%98%EC%97%85_3%EC%A3%BC%EC%B0%A8.ipynb\" target=\"_parent\"><img src=\"https://colab.research.google.com/assets/colab-badge.svg\" alt=\"Open In Colab\"/></a>"
      ]
    },
    {
      "cell_type": "code",
      "execution_count": null,
      "metadata": {
        "id": "7peFibTNBz_B"
      },
      "outputs": [],
      "source": [
        "import tensorflow as tf\n",
        "from tensorflow import keras\n",
        "import numpy as np\n",
        "import matplotlib.pyplot as plt"
      ]
    },
    {
      "cell_type": "code",
      "source": [
        "fashion_mnist = keras.datasets.fashion_mnist\n",
        "(train_images, train_labels),(test_images, test_labels)= fashion_mnist.load_data()"
      ],
      "metadata": {
        "colab": {
          "base_uri": "https://localhost:8080/"
        },
        "id": "rN2Jk4jpQAr-",
        "outputId": "f1ac8c27-9686-481e-de2a-1eff96f95557"
      },
      "execution_count": null,
      "outputs": [
        {
          "output_type": "stream",
          "name": "stdout",
          "text": [
            "Downloading data from https://storage.googleapis.com/tensorflow/tf-keras-datasets/train-labels-idx1-ubyte.gz\n",
            "29515/29515 [==============================] - 0s 0us/step\n",
            "Downloading data from https://storage.googleapis.com/tensorflow/tf-keras-datasets/train-images-idx3-ubyte.gz\n",
            "26421880/26421880 [==============================] - 1s 0us/step\n",
            "Downloading data from https://storage.googleapis.com/tensorflow/tf-keras-datasets/t10k-labels-idx1-ubyte.gz\n",
            "5148/5148 [==============================] - 0s 0us/step\n",
            "Downloading data from https://storage.googleapis.com/tensorflow/tf-keras-datasets/t10k-images-idx3-ubyte.gz\n",
            "4422102/4422102 [==============================] - 1s 0us/step\n"
          ]
        }
      ]
    },
    {
      "cell_type": "code",
      "source": [
        "print(train_images.shape)\n",
        "print(train_labels)\n",
        "print(test_images.shape)"
      ],
      "metadata": {
        "colab": {
          "base_uri": "https://localhost:8080/"
        },
        "id": "2HXVFKjwQXUu",
        "outputId": "c49c6524-f496-4625-ffba-95eb437fee07"
      },
      "execution_count": null,
      "outputs": [
        {
          "output_type": "stream",
          "name": "stdout",
          "text": [
            "(60000, 28, 28)\n",
            "[9 0 0 ... 3 0 5]\n",
            "(10000, 28, 28)\n"
          ]
        }
      ]
    },
    {
      "cell_type": "code",
      "source": [
        "fig = plt.figure()\n",
        "ax1 = fig.add_subplot(1, 3, 1)#1행 3열의 첫번째 사진을 출력\n",
        "ax2 = fig.add_subplot(1,3,2)\n",
        "ax3 = fig.add_subplot(1,3,3)\n",
        "\n",
        "ax1.imshow(train_images[0])\n",
        "ax2.imshow(train_images[1])\n",
        "ax3.imshow(train_images[2])\n",
        "plt.show()"
      ],
      "metadata": {
        "colab": {
          "base_uri": "https://localhost:8080/",
          "height": 209
        },
        "id": "YZ8qryezQkjk",
        "outputId": "8e52f692-b197-4bba-cb41-1a5e7e11c0d6"
      },
      "execution_count": null,
      "outputs": [
        {
          "output_type": "display_data",
          "data": {
            "text/plain": [
              "<Figure size 640x480 with 3 Axes>"
            ],
            "image/png": "[encoded data removed]"
          },
          "metadata": {}
        }
      ]
    },
    {
      "cell_type": "code",
      "source": [
        "print(train_labels[:3])"
      ],
      "metadata": {
        "colab": {
          "base_uri": "https://localhost:8080/"
        },
        "id": "h-DILXwvSbJH",
        "outputId": "5e59c9c6-de62-4d8c-c00d-93e71633ce2c"
      },
      "execution_count": null,
      "outputs": [
        {
          "output_type": "stream",
          "name": "stdout",
          "text": [
            "[9 0 0]\n"
          ]
        }
      ]
    },
    {
      "cell_type": "code",
      "source": [
        "model = keras.Sequential([\n",
        "    keras.layers.Flatten(input_shape=(28,28)),\n",
        "    keras.layers.Dense(128, activation='relu'),\n",
        "    keras.layers.Dense(64, activation='relu'), #사람이 조정하는건 하이퍼 파라미터 , 기계가 조정하는건 파라미터\n",
        "    keras.layers.Dense(32, activation='relu'),\n",
        "    keras.layers.Dense(10, activation='softmax')\n",
        "])"
      ],
      "metadata": {
        "id": "VKTGmTR3TxzX"
      },
      "execution_count": null,
      "outputs": []
    },
    {
      "cell_type": "code",
      "source": [
        "model.compile(optimizer='adam', #주로 하는 역할은 미분이다 optimizer함수는\n",
        "              loss='sparse_categorical_crossentropy',\n",
        "              metrics=['accuracy'])"
      ],
      "metadata": {
        "id": "UwXI9GDhUh_l"
      },
      "execution_count": null,
      "outputs": []
    },
    {
      "cell_type": "code",
      "source": [
        "model.fit(train_images,train_labels, epochs=15) #batch size 고정값은 32 이다."
      ],
      "metadata": {
        "colab": {
          "base_uri": "https://localhost:8080/"
        },
        "id": "_8a03aOWWpfR",
        "outputId": "8dddba01-3b84-4536-d526-f0c3a99353e2"
      },
      "execution_count": null,
      "outputs": [
        {
          "output_type": "stream",
          "name": "stdout",
          "text": [
            "Epoch 1/15\n",
            "1875/1875 [==============================] - 8s 3ms/step - loss: 1.8224 - accuracy: 0.4227\n",
            "Epoch 2/15\n",
            "1875/1875 [==============================] - 7s 4ms/step - loss: 1.0983 - accuracy: 0.5348\n",
            "Epoch 3/15\n",
            "1875/1875 [==============================] - 6s 3ms/step - loss: 0.8969 - accuracy: 0.6329\n",
            "Epoch 4/15\n",
            "1875/1875 [==============================] - 7s 4ms/step - loss: 0.6508 - accuracy: 0.7414\n",
            "Epoch 5/15\n",
            "1875/1875 [==============================] - 6s 3ms/step - loss: 0.5765 - accuracy: 0.7710\n",
            "Epoch 6/15\n",
            "1875/1875 [==============================] - 7s 4ms/step - loss: 0.4976 - accuracy: 0.8336\n",
            "Epoch 7/15\n",
            "1875/1875 [==============================] - 7s 4ms/step - loss: 0.4325 - accuracy: 0.8483\n",
            "Epoch 8/15\n",
            "1875/1875 [==============================] - 7s 4ms/step - loss: 0.3991 - accuracy: 0.8592\n",
            "Epoch 9/15\n",
            "1875/1875 [==============================] - 6s 3ms/step - loss: 0.3824 - accuracy: 0.8640\n",
            "Epoch 10/15\n",
            "1875/1875 [==============================] - 7s 4ms/step - loss: 0.3753 - accuracy: 0.8653\n",
            "Epoch 11/15\n",
            "1875/1875 [==============================] - 6s 3ms/step - loss: 0.3598 - accuracy: 0.8703\n",
            "Epoch 12/15\n",
            "1875/1875 [==============================] - 7s 4ms/step - loss: 0.3589 - accuracy: 0.8709\n",
            "Epoch 13/15\n",
            "1875/1875 [==============================] - 6s 3ms/step - loss: 0.3401 - accuracy: 0.8761\n",
            "Epoch 14/15\n",
            "1875/1875 [==============================] - 7s 4ms/step - loss: 0.3372 - accuracy: 0.8755\n",
            "Epoch 15/15\n",
            "1875/1875 [==============================] - 7s 4ms/step - loss: 0.3277 - accuracy: 0.8799\n"
          ]
        },
        {
          "output_type": "execute_result",
          "data": {
            "text/plain": [
              "<keras.src.callbacks.History at 0x7f0f5014ab30>"
            ]
          },
          "metadata": {},
          "execution_count": 17
        }
      ]
    },
    {
      "cell_type": "code",
      "source": [
        "test_loss, test_acc = model.evaluate(test_images, test_labels, verbose=2) #verbose는 0으로 하면 학습할때 아무것도 출력x default는 1로 되어있다. evaluate 함수를 사용하면 모델의 최종적인 정답률과 loss 값을 알 수 있다.\n",
        "print('\\n테스트 정확도:', test_acc)"
      ],
      "metadata": {
        "colab": {
          "base_uri": "https://localhost:8080/"
        },
        "id": "OQAiWnjOWw-w",
        "outputId": "ad7c205a-7ae7-4065-96fa-4d80757782c0"
      },
      "execution_count": null,
      "outputs": [
        {
          "output_type": "stream",
          "name": "stdout",
          "text": [
            "313/313 - 1s - loss: 0.4054 - accuracy: 0.8564 - 733ms/epoch - 2ms/step\n",
            "\n",
            "테스트 정확도: 0.8564000129699707\n"
          ]
        }
      ]
    },
    {
      "cell_type": "code",
      "source": [
        "import numpy as np\n",
        "randIdx = np.random.randint(0,1000)\n",
        "plt.imshow(test_images[randIdx])"
      ],
      "metadata": {
        "colab": {
          "base_uri": "https://localhost:8080/",
          "height": 448
        },
        "id": "CO3Jjddjphcg",
        "outputId": "434ff0ab-62ed-444f-f305-ec29afdbcf32"
      },
      "execution_count": null,
      "outputs": [
        {
          "output_type": "execute_result",
          "data": {
            "text/plain": [
              "<matplotlib.image.AxesImage at 0x7f0eb8c06e60>"
            ]
          },
          "metadata": {},
          "execution_count": 19
        },
        {
          "output_type": "display_data",
          "data": {
            "text/plain": [
              "<Figure size 640x480 with 1 Axes>"
            ],
            "image/png": "[encoded data removed]"
          },
          "metadata": {}
        }
      ]
    },
    {
      "cell_type": "code",
      "source": [
        "yhat = model.predict(test_images[randIdx][np.newaxis,:,:]) #차원 수를 늘려준것\n",
        "yhat"
      ],
      "metadata": {
        "colab": {
          "base_uri": "https://localhost:8080/"
        },
        "id": "BnGh3cftqad4",
        "outputId": "fae662e2-4ff2-4047-e8fc-76152b6f3ff7"
      },
      "execution_count": null,
      "outputs": [
        {
          "output_type": "stream",
          "name": "stdout",
          "text": [
            "1/1 [==============================] - 0s 59ms/step\n"
          ]
        },
        {
          "output_type": "execute_result",
          "data": {
            "text/plain": [
              "array([[0.04017717, 0.00463144, 0.71933377, 0.0180585 , 0.03957219,\n",
              "        0.00426749, 0.16312452, 0.00299653, 0.00683228, 0.00100606]],\n",
              "      dtype=float32)"
            ]
          },
          "metadata": {},
          "execution_count": 20
        }
      ]
    },
    {
      "cell_type": "code",
      "source": [
        "class_names = ['T_shirt/Top','Trouser','Pullover','Dress','Coat','Sandal','Shirt','Sneaker','Bag','Ankle boot']"
      ],
      "metadata": {
        "id": "2GYNkVV5s2aZ"
      },
      "execution_count": null,
      "outputs": []
    },
    {
      "cell_type": "code",
      "source": [
        "yhat = np.argmax(model.predict(test_images[randIdx][np.newaxis,:,:])) #argmax는 값이 가장큰것\n",
        "print(class_names[yhat])"
      ],
      "metadata": {
        "colab": {
          "base_uri": "https://localhost:8080/"
        },
        "id": "X_QDaUn7qgOn",
        "outputId": "f601301d-d746-410e-de57-ffe0b3ddd759"
      },
      "execution_count": null,
      "outputs": [
        {
          "output_type": "stream",
          "name": "stdout",
          "text": [
            "1/1 [==============================] - 0s 17ms/step\n",
            "Pullover\n"
          ]
        }
      ]
    },
    {
      "cell_type": "code",
      "source": [
        "model2 = keras.Sequential([\n",
        "    keras.layers.Flatten(input_shape=(28,28)),\n",
        "    keras.layers.Dense(128, activation='relu'),\n",
        "    keras.layers.Dense(64, activation='relu'), #사람이 조정하는건 하이퍼 파라미터 , 기계가 조정하는건 파라미터\n",
        "    keras.layers.Dense(32, activation='relu'),\n",
        "    keras.layers.Dense(16, activation='relu'),\n",
        "    keras.layers.Dense(13, activation='relu'),\n",
        "    keras.layers.Dense(10, activation='softmax')\n",
        "])\n",
        "model.compile(optimizer='adam', #주로 하는 역할은 미분이다 optimizer함수는\n",
        "              loss='sparse_categorical_crossentropy',\n",
        "              metrics=['accuracy'])\n",
        "model2.fit(train_images,train_labels, epochs=15, batch_size=128)"
      ],
      "metadata": {
        "colab": {
          "base_uri": "https://localhost:8080/"
        },
        "id": "eXaW8zjQgiio",
        "outputId": "5d8dd964-4245-4046-8406-a4579c199e5f"
      },
      "execution_count": null,
      "outputs": [
        {
          "output_type": "stream",
          "name": "stdout",
          "text": [
            "Epoch 1/15\n",
            "469/469 [==============================] - 5s 6ms/step - loss: 0.2618 - accuracy: 0.9041\n",
            "Epoch 2/15\n",
            "469/469 [==============================] - 2s 5ms/step - loss: 0.2504 - accuracy: 0.9062\n",
            "Epoch 3/15\n",
            "469/469 [==============================] - 2s 4ms/step - loss: 0.2480 - accuracy: 0.9078\n",
            "Epoch 4/15\n",
            "469/469 [==============================] - 2s 4ms/step - loss: 0.2435 - accuracy: 0.9093\n",
            "Epoch 5/15\n",
            "469/469 [==============================] - 2s 4ms/step - loss: 0.2416 - accuracy: 0.9096\n",
            "Epoch 6/15\n",
            "469/469 [==============================] - 2s 4ms/step - loss: 0.2344 - accuracy: 0.9140\n",
            "Epoch 7/15\n",
            "469/469 [==============================] - 3s 6ms/step - loss: 0.2262 - accuracy: 0.9161\n",
            "Epoch 8/15\n",
            "469/469 [==============================] - 2s 5ms/step - loss: 0.2224 - accuracy: 0.9173\n",
            "Epoch 9/15\n",
            "469/469 [==============================] - 3s 6ms/step - loss: 0.2270 - accuracy: 0.9165\n",
            "Epoch 10/15\n",
            "469/469 [==============================] - 3s 6ms/step - loss: 0.2175 - accuracy: 0.9187\n",
            "Epoch 11/15\n",
            "469/469 [==============================] - 2s 5ms/step - loss: 0.2126 - accuracy: 0.9203\n",
            "Epoch 12/15\n",
            "469/469 [==============================] - 3s 6ms/step - loss: 0.2091 - accuracy: 0.9218\n",
            "Epoch 13/15\n",
            "469/469 [==============================] - 2s 4ms/step - loss: 0.2160 - accuracy: 0.9212\n",
            "Epoch 14/15\n",
            "469/469 [==============================] - 2s 4ms/step - loss: 0.2120 - accuracy: 0.9208\n",
            "Epoch 15/15\n",
            "469/469 [==============================] - 2s 4ms/step - loss: 0.2039 - accuracy: 0.9239\n"
          ]
        },
        {
          "output_type": "execute_result",
          "data": {
            "text/plain": [
              "<keras.src.callbacks.History at 0x7f0e9ff35b40>"
            ]
          },
          "metadata": {},
          "execution_count": 26
        }
      ]
    },
    {
      "cell_type": "code",
      "source": [
        "model2.summary()"
      ],
      "metadata": {
        "id": "DhCJjuNetQVd",
        "outputId": "189b5056-137f-4c73-89fd-fdcd864dcb1a",
        "colab": {
          "base_uri": "https://localhost:8080/"
        }
      },
      "execution_count": null,
      "outputs": [
        {
          "output_type": "stream",
          "name": "stdout",
          "text": [
            "Model: \"sequential_3\"\n",
            "_________________________________________________________________\n",
            " Layer (type)                Output Shape              Param #   \n",
            "=================================================================\n",
            " flatten_3 (Flatten)         (None, 784)               0         \n",
            "                                                                 \n",
            " dense_14 (Dense)            (None, 128)               100480    \n",
            "                                                                 \n",
            " dense_15 (Dense)            (None, 64)                8256      \n",
            "                                                                 \n",
            " dense_16 (Dense)            (None, 32)                2080      \n",
            "                                                                 \n",
            " dense_17 (Dense)            (None, 16)                528       \n",
            "                                                                 \n",
            " dense_18 (Dense)            (None, 13)                221       \n",
            "                                                                 \n",
            " dense_19 (Dense)            (None, 10)                140       \n",
            "                                                                 \n",
            "=================================================================\n",
            "Total params: 111705 (436.35 KB)\n",
            "Trainable params: 111705 (436.35 KB)\n",
            "Non-trainable params: 0 (0.00 Byte)\n",
            "_________________________________________________________________\n"
          ]
        }
      ]
    },
    {
      "cell_type": "code",
      "source": [
        "test_loss, test_acc = model.evaluate(test_images, test_labels, verbose=2) #verbose는 0으로 하면 학습할때 아무것도 출력x default는 1로 되어있다.\n",
        "print('\\n테스트 정확도:', test_acc)"
      ],
      "metadata": {
        "colab": {
          "base_uri": "https://localhost:8080/"
        },
        "id": "pABhEO5BhJof",
        "outputId": "5b3baebe-9620-44ff-b4e7-ec636798d189"
      },
      "execution_count": null,
      "outputs": [
        {
          "output_type": "stream",
          "name": "stdout",
          "text": [
            "313/313 - 1s - loss: 0.3767 - accuracy: 0.8826 - 837ms/epoch - 3ms/step\n",
            "\n",
            "테스트 정확도: 0.8826000094413757\n"
          ]
        }
      ]
    },
    {
      "cell_type": "code",
      "source": [
        "yhat_2 = model.predict(test_images[randIdx][np.newaxis,:,:]) #차원 수를 늘려준것\n",
        "yhat_2"
      ],
      "metadata": {
        "colab": {
          "base_uri": "https://localhost:8080/"
        },
        "id": "fQUgMBYjkGEX",
        "outputId": "0b5ea1da-29b8-41d3-ec49-423be8e174fd"
      },
      "execution_count": null,
      "outputs": [
        {
          "output_type": "stream",
          "name": "stdout",
          "text": [
            "1/1 [==============================] - 0s 97ms/step\n"
          ]
        },
        {
          "output_type": "execute_result",
          "data": {
            "text/plain": [
              "array([[5.6409603e-01, 1.3110453e-02, 2.5643942e-01, 2.2946557e-04,\n",
              "        3.0091747e-03, 3.3684313e-02, 1.1514078e-01, 1.4971384e-06,\n",
              "        1.4284418e-02, 4.4899789e-06]], dtype=float32)"
            ]
          },
          "metadata": {},
          "execution_count": 34
        }
      ]
    },
    {
      "cell_type": "code",
      "source": [
        "pred_1 = model.predict(test_images)\n",
        "pred_2= model2.predict(test_images)\n",
        "pred_1,pred_2"
      ],
      "metadata": {
        "id": "H4X3dJuXhVM-"
      },
      "execution_count": null,
      "outputs": []
    },
    {
      "cell_type": "code",
      "source": [
        "y_hat1 = np.argmax(pred_1, axis=1) #1차원이다.\n",
        "y_hat2 = np.argmax(pred_2, axis=1)\n",
        "y_hat1,y_hat2"
      ],
      "metadata": {
        "colab": {
          "base_uri": "https://localhost:8080/"
        },
        "id": "iFDhjn1whp5Y",
        "outputId": "f36c5698-2871-409c-ebdc-da0af1ba78de"
      },
      "execution_count": null,
      "outputs": [
        {
          "output_type": "execute_result",
          "data": {
            "text/plain": [
              "(array([9, 2, 1, ..., 8, 1, 5]), array([6, 5, 7, ..., 5, 5, 5]))"
            ]
          },
          "metadata": {},
          "execution_count": 36
        }
      ]
    },
    {
      "cell_type": "code",
      "source": [
        "from sklearn.metrics import confusion_matrix\n",
        "conf_mat1= confusion_matrix(test_labels, y_hat1)\n",
        "conf_mat2= confusion_matrix(test_labels, y_hat2)\n",
        "plt.matshow(conf_mat1)\n",
        "plt.matshow(conf_mat2)"
      ],
      "metadata": {
        "id": "XkiNOJGNs4OC"
      },
      "execution_count": null,
      "outputs": []
    },
    {
      "cell_type": "code",
      "source": [],
      "metadata": {
        "id": "PXNm9Llwjkzt"
      },
      "execution_count": null,
      "outputs": []
    }
  ]
}